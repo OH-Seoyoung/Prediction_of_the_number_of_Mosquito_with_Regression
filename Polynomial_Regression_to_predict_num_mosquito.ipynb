{
 "cells": [
  {
   "cell_type": "markdown",
   "metadata": {},
   "source": [
    "# Polynomial Regression to predict the number of Mosquito\n",
    "- 비전공자를 위한 인공지능 중간고사 대체 과제 : 선형 회귀를 이용한 데이터 분석\n",
    "- 2017010698 수학과 오서영"
   ]
  },
  {
   "cell_type": "markdown",
   "metadata": {},
   "source": [
    "## 1. Import Packages"
   ]
  },
  {
   "cell_type": "code",
   "execution_count": 6,
   "metadata": {},
   "outputs": [],
   "source": [
    "import numpy as np\n",
    "import matplotlib.pylab as plt\n",
    "from sklearn.model_selection import train_test_split\n",
    "from sklearn.linear_model import LinearRegression\n",
    "from sklearn import metrics\n",
    "from sklearn.preprocessing import PolynomialFeatures"
   ]
  },
  {
   "cell_type": "markdown",
   "metadata": {},
   "source": [
    "## 2. Make Dataset"
   ]
  },
  {
   "cell_type": "code",
   "execution_count": 7,
   "metadata": {},
   "outputs": [],
   "source": [
    "# independent variable : shape of [Tempurature]\n",
    "X = np.array([[14.9],[15.3],[12.6],[13.8],[14.3],[14.8],[19.3],[20.4],[19.5],[13.2],[ 8.4],[11.6],[12.9],[13. ],[15.5],[16.4],[17.1],[17.9],\n",
    "       [19.5],[19.2],[14.5],[15. ],[15.6],[16.6],[17.8],[20.3],[21.6],[18.7],[19.6],[20.7],[23.5],[23.6],[22.8],[19.4],[16.4],[17.2],\n",
    "       [19.5],[22.1],[24.2],[23.4],[24.5],[17.8],[18.1],[20.3],[19.6],[19.1],[18.9],[21.1],[23.1],[22.6],[23. ],[21.2],[20. ],[21.9],\n",
    "       [21.6],[18.4],[20.5],[21.5],[23. ],[23. ],[21.9],[22. ],[21.7],[20.8],[21.4],[22.7],[22.1],[24.2],[25. ],[25.2],[25.6],[25.5],\n",
    "       [25.5],[24.7],[23.1],[23.9],[23.9],[24.4],[24.1],[25.4],[27.6],[29.7],[26.7],[25.1],[25. ],[22.7],[21.9],[23.6],[24.9],[25.9],\n",
    "       [23.8],[24.7],[25.6],[26.9],[28.6],[28. ],[25.1],[26.7],[28.1],[26.5],[26.3],[25.1],[28.4],[26.1],[27.5],[28.1],[25.8],[26.3],\n",
    "       [28.4],[29.4],[28.3],[30.5],[31.6],[26.9],[28.9],[29.8],[31.5],[30.4],[26.6],[29.2],[30.4],[25.9],[25.9],[25.9],[25.6],[26.3],\n",
    "       [28.2],[27. ],[26.9],[26.2],[24.1],[25. ],[26.4],[25.7],[26.1],[23.4],[22.6],[23.5],[23.7],[24.4],[24.1],[22.8],[23. ],[25.3],\n",
    "       [25.7],[24.7],[25.1],[23.8],[24.3],[21. ],[23.3],[22.4],[24.2],[24.5],[23.5],[21. ],[19.5],[19.6],[19.6],[18.6],[20. ],[19.8],\n",
    "       [20.9],[22.9],[22.9],[23.7],[22.6],[22.4],[23.1],[21.6],[22.4],[22.4],[18.7],[18.1],[14.8],[14.7],[13.6],[15.2],[18.8],[17.9],\n",
    "       [17.2],[14.4],[14.5],[14.6],[15.4],[17. ],[17. ],[16.5],[17.1],[18.1],[17. ],[18.3],[16.7],[10. ],[11. ],[12.9],[12.5],[11.2],[14.8]])\n",
    "\n",
    "# dependent variable\n",
    "y = np.array([48,218,314,242,468,506,603,814,771,1107,104,101,894,782,705,1345,1507,1258,1137,\n",
    "              1315,1108,1172,1031,1169,1300,1636,1633,1543,1364,1395,1421,1629,1531,1697,1698,\n",
    "              1533,1973,1856,1715,1543,1523,1724,1310,1975,2127,1596,1859,1824,1858,1933,1927,\n",
    "              1805,1867,1902,2399,2214,1867,2216,2247,2313,2047,2201,2827,2864,3026,3427,3624,\n",
    "              3909,3499,3676,3651,4436,3666,5309,4744,5113,5525,5547,5555,5538,5994,5791,5374,\n",
    "              4811,4802,4600,4951,4828,5670,5523,6137,4599,5116,5144,5566,4361,3667,4437,4675,\n",
    "              4418,3046,4017,3552,4158,3500,3068,3431,2904,2534,2482,2281,2378,2290,2028,1958,\n",
    "              2024,2283,2350,2115,2012,2646,2073,1596,2183,1935,2134,2505,2565,2679,3312,3226,\n",
    "              2481,2651,2835,2604,2911,2591,2559,2352,2506,2742,2564,2900,2914,3141,3008,3361,\n",
    "              3310,2797,2580,2518,3337,2530,3592,3865,3058,2935,2534,2677,2193,2704,2283,2344,\n",
    "              2392,2521,2393,2592,2631,2569,2493,2445,2503,3150,2136,2471,731,847,861,1111,1872,\n",
    "              1573,1135,609,624,874,707,1244,896,901,936,1004,1125,1276,725,181,266,439,206,185])"
   ]
  },
  {
   "cell_type": "code",
   "execution_count": 8,
   "metadata": {},
   "outputs": [
    {
     "name": "stdout",
     "output_type": "stream",
     "text": [
      "shape of X : (199, 1)\n",
      "shape of y : (199,)\n"
     ]
    }
   ],
   "source": [
    "# Explore dataset\n",
    "print(\"shape of X :\", X.shape)\n",
    "print(\"shape of y :\", y.shape)"
   ]
  },
  {
   "cell_type": "code",
   "execution_count": 46,
   "metadata": {},
   "outputs": [],
   "source": [
    "# split train and test data\n",
    "X_train, X_test, y_train, y_test = train_test_split(X, y, test_size=0.2, random_state=1004)"
   ]
  },
  {
   "cell_type": "markdown",
   "metadata": {},
   "source": [
    "## 3. Polynomial Regression"
   ]
  },
  {
   "cell_type": "code",
   "execution_count": 73,
   "metadata": {
    "scrolled": true
   },
   "outputs": [
    {
     "data": {
      "text/plain": [
       "LinearRegression(copy_X=True, fit_intercept=True, n_jobs=None, normalize=False)"
      ]
     },
     "execution_count": 73,
     "metadata": {},
     "output_type": "execute_result"
    }
   ],
   "source": [
    "poly = PolynomialFeatures(degree =3, include_bias = False)\n",
    "X_poly = poly.fit_transform(X_train)\n",
    "model = LinearRegression()\n",
    "model.fit(X_poly, y_train)"
   ]
  },
  {
   "cell_type": "markdown",
   "metadata": {},
   "source": [
    "## 4. Result"
   ]
  },
  {
   "cell_type": "code",
   "execution_count": 74,
   "metadata": {
    "scrolled": true
   },
   "outputs": [
    {
     "name": "stdout",
     "output_type": "stream",
     "text": [
      "W = [-2016.95290956   121.32301383    -2.08791732]\n",
      "b = 10691.720238899048\n"
     ]
    }
   ],
   "source": [
    "print(\"W =\", model.coef_)\n",
    "print(\"b =\", model.intercept_)"
   ]
  },
  {
   "cell_type": "code",
   "execution_count": 75,
   "metadata": {},
   "outputs": [],
   "source": [
    "train_pred = model.predict(poly.fit_transform(X_train))\n",
    "test_pred = model.predict(poly.fit_transform(X_test))"
   ]
  },
  {
   "cell_type": "code",
   "execution_count": 79,
   "metadata": {},
   "outputs": [
    {
     "data": {
      "image/png": "[encoded data removed]",
      "text/plain": [
       "<Figure size 432x288 with 1 Axes>"
      ]
     },
     "metadata": {
      "needs_background": "light"
     },
     "output_type": "display_data"
    }
   ],
   "source": [
    "# Visualization\n",
    "plt.scatter(X_train, y_train)\n",
    "plt.plot(X_train, train_pred,'ro')\n",
    "plt.xlabel(\"Tempurature\")\n",
    "plt.ylabel(\"# Mosquito\")\n",
    "plt.show()"
   ]
  },
  {
   "cell_type": "code",
   "execution_count": 80,
   "metadata": {},
   "outputs": [
    {
     "name": "stdout",
     "output_type": "stream",
     "text": [
      "Train MAE : 715.471579353026\n",
      "Test MAE : 827.6449448401585\n"
     ]
    }
   ],
   "source": [
    "print('Train MAE :', metrics.mean_absolute_error(y_train, train_pred))\n",
    "print('Test MAE :', metrics.mean_absolute_error(y_test, test_pred))"
   ]
  },
  {
   "cell_type": "code",
   "execution_count": 81,
   "metadata": {},
   "outputs": [
    {
     "name": "stdout",
     "output_type": "stream",
     "text": [
      "Train R2_Score: 0.5478069652841393\n",
      "Test R2_Score: 0.45754142253537766\n"
     ]
    }
   ],
   "source": [
    "print(\"Train R2_Score:\", metrics.r2_score(y_train, train_pred))\n",
    "print(\"Test R2_Score:\", metrics.r2_score(y_test, test_pred))"
   ]
  }
 ],
 "metadata": {
  "kernelspec": {
   "display_name": "Python 3",
   "language": "python",
   "name": "python3"
  },
  "language_info": {
   "codemirror_mode": {
    "name": "ipython",
    "version": 3
   },
   "file_extension": ".py",
   "mimetype": "text/x-python",
   "name": "python",
   "nbconvert_exporter": "python",
   "pygments_lexer": "ipython3",
   "version": "3.7.7"
  }
 },
 "nbformat": 4,
 "nbformat_minor": 4
}
