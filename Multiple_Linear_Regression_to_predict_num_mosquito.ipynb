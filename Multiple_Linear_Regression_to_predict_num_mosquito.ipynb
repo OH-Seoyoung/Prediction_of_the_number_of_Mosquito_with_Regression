{
 "cells": [
  {
   "cell_type": "markdown",
   "metadata": {},
   "source": [
    "# Multiple Linear Regression to predict the number of Mosquito\n",
    "- 비전공자를 위한 인공지능 중간고사 대체 과제 : 선형 회귀를 이용한 데이터 분석\n",
    "- 2017010698 수학과 오서영"
   ]
  },
  {
   "cell_type": "markdown",
   "metadata": {},
   "source": [
    "## 1. Import Packages"
   ]
  },
  {
   "cell_type": "code",
   "execution_count": 25,
   "metadata": {},
   "outputs": [],
   "source": [
    "import numpy as np\n",
    "import matplotlib.pylab as plt\n",
    "from sklearn.linear_model import LinearRegression\n",
    "from sklearn.model_selection import train_test_split\n",
    "from sklearn import metrics"
   ]
  },
  {
   "cell_type": "markdown",
   "metadata": {},
   "source": [
    "## 2. Make Dataset"
   ]
  },
  {
   "cell_type": "code",
   "execution_count": 26,
   "metadata": {},
   "outputs": [],
   "source": [
    "# independent variable : shape of [Tempurature, Humidity]\n",
    "X = np.array([[14.9, 26.3],[15.3, 37.5],[12.6, 74.4],[13.8, 57.5],[14.3, 66.9],[14.8, 77.8],[19.3, 50.6],[20.4, 52.0],[19.5, 70.4],\n",
    " [13.2, 75.9],[8.4, 82.1],[11.6, 52.6],[12.9, 48.8],[13.0, 52.9],[15.5, 52.8],[16.4, 48.9],[17.1, 28.5],[17.9, 37.5],[19.5, 40.4],\n",
    " [19.2, 35.8],[14.5, 27.1],[15.0, 33.4],[15.6, 48.3],[16.6, 43.3],[17.8, 48.0],[20.3, 39.0],[21.6, 36.0],[18.7, 43.4],[19.6, 44.5],\n",
    " [20.7, 48.1],[23.5, 43.8],[23.6, 44.9],[22.8, 46.8],[19.4, 93.0],[16.4, 63.6],[17.2, 52.0],[19.5, 46.0],[22.1, 45.0],[24.2, 46.4],\n",
    " [23.4, 45.6],[24.5, 39.0],[17.8, 80.9],[18.1, 45.9],[20.3, 48.4],[19.6, 48.0],[19.1, 49.6],[18.9, 60.5],[21.1, 42.1],[23.1, 42.9],\n",
    " [22.6, 56.4],[23.0, 63.8],[21.2, 75.9],[20.0, 77.3],[21.9, 57.5],[21.6, 66.1],[18.4, 70.3],[20.5, 51.1],[21.5, 57.1],[23.0, 51.9],\n",
    " [23.0, 54.8],[21.9, 61.5],[22.0, 55.4],[21.7, 59.1],[20.8, 78.6],[21.4, 77.8],[22.7, 70.6],[22.1, 72.9],[24.2, 42.3],[25.0, 40.4],\n",
    " [25.2, 46.9],[25.6, 49.1],[25.5, 52.6],[25.5, 70.5],[24.7, 67.3],[23.1, 72.0],[23.9, 73.5],[23.9, 64.4],[24.4, 63.5],[24.1, 64.6],\n",
    " [25.4, 59.6],[27.6, 42.1],[29.7, 40.9],[26.7, 43.3],[25.1, 46.6],[25.0, 46.4],[22.7, 64.1],[21.9, 76.9],[23.6, 65.5],[24.9, 67.3],\n",
    " [25.9, 64.6],[23.8, 80.0],[24.7, 79.0],[25.6, 73.9],[26.9, 65.0],[28.6, 61.3],[28.0, 66.9],[25.1, 87.1],[26.7, 74.6],[28.1, 70.8],\n",
    " [26.5, 82.3],[26.3, 90.1],[25.1, 95.3],[28.4, 76.6],[26.1, 88.3],[27.5, 74.5],[28.1, 75.3],[25.8, 91.1],[26.3, 86.4],[28.4, 74.6],\n",
    " [29.4, 69.0],[28.3, 75.9],[30.5, 65.5],[31.6, 51.4],[26.9, 78.1],[28.9, 71.4],[29.8, 69.0],[31.5, 57.9],[30.4, 53.6],[26.6, 91.8],\n",
    " [29.2, 76.9],[30.4, 63.9],[25.9, 82.0],[25.9, 74.5],[25.9, 69.5],[25.6, 66.5],[26.3, 60.6],[28.2, 56.3],[27.0, 67.3],[26.9, 66.5],\n",
    " [26.2, 58.4],[24.1, 60.9],[25.0, 66.6],[26.4, 63.8],[25.7, 71.1],[26.1, 66.2],[23.4, 77.1],[22.6, 66.3],[23.5, 65.0],[23.7, 64.0],\n",
    " [24.4, 56.6],[24.1, 67.6],[22.8, 89.0],[23.0, 91.4],[25.3, 79.8],[25.7, 72.9],[24.7, 76.9],[25.1, 74.3],[23.8, 93.4],[24.3, 71.4],\n",
    " [21.0, 72.3],[23.3, 60.4],[22.4, 80.0],[24.2, 70.4],[24.5, 53.0],[23.5, 41.6],[21.0, 46.0],[19.5, 46.5],[19.6, 52.8],[19.6, 60.3],\n",
    " [18.6, 63.4],[20.0, 51.1],[19.8, 61.3],[20.9, 64.4],[22.9, 59.3],[22.9, 57.5],[23.7, 58.9],[22.6, 60.6],[22.4, 61.0],[23.1, 67.1],\n",
    " [21.6, 88.0],[22.4, 73.4],[22.4, 71.5],[18.7, 72.6],[18.1, 53.4],[14.8, 92.0],[14.7, 58.8],[13.6, 48.3],[15.2, 60.9],[18.8, 60.0],\n",
    " [17.9, 49.3],[17.2, 52.6],[14.4, 56.9],[14.5, 55.6],[14.6, 58.3],[15.4, 56.0],[17.0, 58.3],[17.0, 63.8],[16.5, 70.3],[17.1, 61.0],\n",
    " [18.1, 56.1],[17.0, 57.3],[18.3, 47.6],[16.7, 58.0],[10.0, 60.0],[11.0, 59.0],[12.9, 65.9],[12.5, 61.0],[11.2, 60.3],[14.8, 73.8]])\n",
    "\n",
    "# dependent variable\n",
    "y = np.array([48,218,314,242,468,506,603,814,771,1107,104,101,894,782,705,1345,1507,1258,1137,\n",
    "              1315,1108,1172,1031,1169,1300,1636,1633,1543,1364,1395,1421,1629,1531,1697,1698,\n",
    "              1533,1973,1856,1715,1543,1523,1724,1310,1975,2127,1596,1859,1824,1858,1933,1927,\n",
    "              1805,1867,1902,2399,2214,1867,2216,2247,2313,2047,2201,2827,2864,3026,3427,3624,\n",
    "              3909,3499,3676,3651,4436,3666,5309,4744,5113,5525,5547,5555,5538,5994,5791,5374,\n",
    "              4811,4802,4600,4951,4828,5670,5523,6137,4599,5116,5144,5566,4361,3667,4437,4675,\n",
    "              4418,3046,4017,3552,4158,3500,3068,3431,2904,2534,2482,2281,2378,2290,2028,1958,\n",
    "              2024,2283,2350,2115,2012,2646,2073,1596,2183,1935,2134,2505,2565,2679,3312,3226,\n",
    "              2481,2651,2835,2604,2911,2591,2559,2352,2506,2742,2564,2900,2914,3141,3008,3361,\n",
    "              3310,2797,2580,2518,3337,2530,3592,3865,3058,2935,2534,2677,2193,2704,2283,2344,\n",
    "              2392,2521,2393,2592,2631,2569,2493,2445,2503,3150,2136,2471,731,847,861,1111,1872,\n",
    "              1573,1135,609,624,874,707,1244,896,901,936,1004,1125,1276,725,181,266,439,206,185])"
   ]
  },
  {
   "cell_type": "code",
   "execution_count": 27,
   "metadata": {},
   "outputs": [
    {
     "name": "stdout",
     "output_type": "stream",
     "text": [
      "shape of X : (199, 2)\n",
      "shape of y : (199,)\n"
     ]
    }
   ],
   "source": [
    "# Explore dataset\n",
    "print(\"shape of X :\", X.shape)\n",
    "print(\"shape of y :\", y.shape)"
   ]
  },
  {
   "cell_type": "code",
   "execution_count": 28,
   "metadata": {},
   "outputs": [],
   "source": [
    "# split train and test data\n",
    "X_train, X_test, y_train, y_test = train_test_split(X, y, test_size=0.2, random_state=1004)"
   ]
  },
  {
   "cell_type": "code",
   "execution_count": 29,
   "metadata": {},
   "outputs": [
    {
     "data": {
      "image/png": "[encoded data removed]",
      "text/plain": [
       "<Figure size 432x288 with 2 Axes>"
      ]
     },
     "metadata": {
      "needs_background": "light"
     },
     "output_type": "display_data"
    }
   ],
   "source": [
    "# Visualization\n",
    "fig = plt.figure()\n",
    "p1 = fig.add_subplot(2, 1, 1)\n",
    "p2 = fig.add_subplot(2, 1, 2)\n",
    "\n",
    "p1.plot(X_train[:,0], y_train, 'bo')  # Tempurature\n",
    "p1.set_xlabel(\"Tempurature\")\n",
    "p1.set_ylabel(\"# mosquito\")\n",
    "p2.plot(X_train[:,1], y_train, 'ro')  # Humidity\n",
    "p2.set_xlabel(\"Humidity\")\n",
    "p2.set_ylabel(\"# mosquito\")\n",
    "plt.tight_layout()\n",
    "\n",
    "plt.show()"
   ]
  },
  {
   "cell_type": "markdown",
   "metadata": {},
   "source": [
    "## 3. Multiple Linear Regression"
   ]
  },
  {
   "cell_type": "code",
   "execution_count": 30,
   "metadata": {
    "scrolled": true
   },
   "outputs": [
    {
     "data": {
      "text/plain": [
       "LinearRegression(copy_X=True, fit_intercept=True, n_jobs=None, normalize=False)"
      ]
     },
     "execution_count": 30,
     "metadata": {},
     "output_type": "execute_result"
    }
   ],
   "source": [
    "model = LinearRegression()\n",
    "model.fit(X_train, y_train)"
   ]
  },
  {
   "cell_type": "markdown",
   "metadata": {},
   "source": [
    "## 4. Result"
   ]
  },
  {
   "cell_type": "code",
   "execution_count": 31,
   "metadata": {
    "scrolled": true
   },
   "outputs": [
    {
     "name": "stdout",
     "output_type": "stream",
     "text": [
      "W = [198.05976766   8.13000628]\n",
      "b = -2330.1214880807033\n"
     ]
    }
   ],
   "source": [
    "print(\"W =\", model.coef_)\n",
    "print(\"b =\", model.intercept_)"
   ]
  },
  {
   "cell_type": "code",
   "execution_count": 36,
   "metadata": {},
   "outputs": [
    {
     "name": "stdout",
     "output_type": "stream",
     "text": [
      "a prediction of # mosquito is 4099.47191818556\n"
     ]
    }
   ],
   "source": [
    "# prediction of one data\n",
    "W = model.coef_\n",
    "b = model.intercept_\n",
    "\n",
    "a_data = np.array([30, 60])\n",
    "a_pred = np.dot(W,a_data.T) + b\n",
    "print(\"a prediction of # mosquito is\", a_pred)"
   ]
  },
  {
   "cell_type": "code",
   "execution_count": 37,
   "metadata": {},
   "outputs": [],
   "source": [
    "train_pred = model.predict(X_train)\n",
    "test_pred = model.predict(X_test)"
   ]
  },
  {
   "cell_type": "code",
   "execution_count": 38,
   "metadata": {},
   "outputs": [
    {
     "name": "stdout",
     "output_type": "stream",
     "text": [
      "Train MAE : 769.159651291196\n",
      "Test MAE : 804.6730773077359\n"
     ]
    }
   ],
   "source": [
    "print('Train MAE :', metrics.mean_absolute_error(y_train, train_pred))\n",
    "print('Test MAE :', metrics.mean_absolute_error(y_test, test_pred))"
   ]
  },
  {
   "cell_type": "code",
   "execution_count": 39,
   "metadata": {},
   "outputs": [
    {
     "name": "stdout",
     "output_type": "stream",
     "text": [
      "Train R2_Score: 0.4646285517625959\n",
      "Test R2_Score: 0.4437745857207037\n"
     ]
    }
   ],
   "source": [
    "print(\"Train R2_Score:\", metrics.r2_score(y_train, train_pred))\n",
    "print(\"Test R2_Score:\", metrics.r2_score(y_test, test_pred))"
   ]
  }
 ],
 "metadata": {
  "kernelspec": {
   "display_name": "Python 3",
   "language": "python",
   "name": "python3"
  },
  "language_info": {
   "codemirror_mode": {
    "name": "ipython",
    "version": 3
   },
   "file_extension": ".py",
   "mimetype": "text/x-python",
   "name": "python",
   "nbconvert_exporter": "python",
   "pygments_lexer": "ipython3",
   "version": "3.7.7"
  }
 },
 "nbformat": 4,
 "nbformat_minor": 4
}
